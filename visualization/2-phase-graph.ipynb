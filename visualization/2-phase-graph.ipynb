{
 "cells": [
  {
   "cell_type": "markdown",
   "id": "27636d79",
   "metadata": {},
   "source": [
    "### A graph with two phase: an initial spike converging to a limit, and then gradually converging to another limit"
   ]
  },
  {
   "cell_type": "code",
   "execution_count": 2,
   "id": "f29863eb",
   "metadata": {},
   "outputs": [
    {
     "data": {
      "image/png": "[encoded data removed]",
      "text/plain": [
       "<Figure size 432x288 with 1 Axes>"
      ]
     },
     "metadata": {
      "needs_background": "light"
     },
     "output_type": "display_data"
    }
   ],
   "source": [
    "from math import pi, sin\n",
    "import numpy as np\n",
    "import matplotlib.pyplot as plt\n",
    "\n",
    "# The function f is a function where f(0) = 70 and lim f = 80, and max(f) < 100\n",
    "# f does not converge very quickly to 80 due to the 20 * x**1.9 term\n",
    "f = lambda x: (80*x**2+20*x**1.9+70)/(x**2+1)\n",
    "x_part1 = np.linspace(0, 200, 200)\n",
    "y_part1 = np.array([f(x) for x in x_part1])\n",
    "\n",
    "y_1 = y_part1[-1]\n",
    "offset = len(x_part1)\n",
    "length = 200\n",
    "y_scale = (95-y_1)/2\n",
    "# The function g is half of the sine function, scaled and offset to produce a line from y_1 to 95\n",
    "# Basically, [-1, 1] -> [y_1, 95]\n",
    "g = lambda x: y_scale*sin(x) + y_1 + y_scale\n",
    "x_part2 = np.linspace(-pi/2, pi/2, length)\n",
    "y_part2 = np.array([g(x) for x in x_part2])\n",
    "x_part2 = np.linspace(offset, offset+length, length)\n",
    "\n",
    "offset = len(x_part1) + len(x_part2)\n",
    "length = 10\n",
    "# perturbate the convergence of g to 95\n",
    "h = lambda x: y_part2[-1] + x * 0.01\n",
    "x_part3 = np.linspace(0, length, length)\n",
    "y_part3 = np.array([h(x) for x in x_part3])\n",
    "x_part3 = np.linspace(offset, offset+length, length)\n",
    "\n",
    "x = np.concatenate([x_part2, x_part3])\n",
    "y = np.concatenate([y_part2, y_part3])\n",
    "\n",
    "all_x = np.concatenate([x_part1, x_part2, x_part3])\n",
    "line1=plt.plot(x_part1, y_part1)\n",
    "line2=plt.plot(x, y, linestyle='dotted')\n",
    "plt.xticks(all_x[0::100], [])\n",
    "plt.xlabel(\"x $\\longrightarrow$\", horizontalalignment='right', x=1.0)\n",
    "plt.ylabel(\"f(x) and g(x)\")\n",
    "\n",
    "plt.legend(['Phase 1', 'Phase 2'])\n",
    "\n",
    "plt.title('2-phase graph')\n",
    "\n",
    "plt.savefig('filename.png', dpi=300)\n",
    "plt.show()"
   ]
  },
  {
   "cell_type": "code",
   "execution_count": null,
   "id": "df2bb277",
   "metadata": {},
   "outputs": [],
   "source": []
  }
 ],
 "metadata": {
  "kernelspec": {
   "display_name": "Python 3",
   "language": "python",
   "name": "python3"
  },
  "language_info": {
   "codemirror_mode": {
    "name": "ipython",
    "version": 3
   },
   "file_extension": ".py",
   "mimetype": "text/x-python",
   "name": "python",
   "nbconvert_exporter": "python",
   "pygments_lexer": "ipython3",
   "version": "3.9.2"
  }
 },
 "nbformat": 4,
 "nbformat_minor": 5
}
